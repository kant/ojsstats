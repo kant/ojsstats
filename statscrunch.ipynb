{
 "cells": [
  {
   "cell_type": "code",
   "execution_count": 1,
   "metadata": {
    "collapsed": false,
    "deletable": true,
    "editable": true
   },
   "outputs": [],
   "source": [
    "import sys, re, os, gc\n",
    "import difflib, random\n",
    "import pandas as pd\n",
    "import numpy as np\n",
    "import csv, json\n",
    "# from unidecode import unidecode\n",
    "\n",
    "import sqlite3 as lite\n",
    "\n",
    "from datetime import date, timedelta"
   ]
  },
  {
   "cell_type": "code",
   "execution_count": 2,
   "metadata": {
    "collapsed": false,
    "deletable": true,
    "editable": true
   },
   "outputs": [],
   "source": [
    "record_dates = pd.read_csv('data/dates.txt', sep=\"\\t\")\n",
    "record_dates.columns = ['record_id', 'archive_id','dcdate', 'source']\n",
    "record_dates.set_index('archive_id', inplace=True)"
   ]
  },
  {
   "cell_type": "code",
   "execution_count": 31,
   "metadata": {
    "collapsed": false,
    "deletable": true,
    "editable": true
   },
   "outputs": [],
   "source": [
    "archive_settings  = pd.read_csv('data/archive_settings.csv', encoding='utf8', escapechar='\\\\')\n",
    "archive_settings.columns = ['archive_id','setting_name', 'setting_value', 'type']\n",
    "archive_settings.set_index('archive_id', inplace=True)\n",
    "lastIndexedDate = archive_settings[archive_settings.setting_name == 'lastIndexedDate'][['setting_value']]\n",
    "lastIndexedDate.columns=['lastIndexedDate']\n",
    "recordCount = archive_settings[archive_settings.setting_name == 'recordCount'][['setting_value']]\n",
    "recordCount.columns=['recordCount']\n",
    "\n",
    "def find_journal_url(oai_url):\n",
    "    if oai_url.find(\"page=oai\") > 0:\n",
    "        journal_url = re.sub('page=oai.*', '', oai_url)\n",
    "    else:\n",
    "        journal_url = re.sub('/oai.*?$', '', oai_url)\n",
    "\n",
    "    return journal_url\n",
    "\n",
    "harvesterUrl = archive_settings[archive_settings.setting_name == 'harvesterUrl'][['setting_value']]\n",
    "harvesterUrl.columns=['url']\n",
    "harvesterUrl['url'] = harvesterUrl.url.apply(find_journal_url)\n"
   ]
  },
  {
   "cell_type": "code",
   "execution_count": 18,
   "metadata": {
    "collapsed": false,
    "deletable": true,
    "editable": true
   },
   "outputs": [],
   "source": [
    "record_dates = record_dates.merge(lastIndexedDate, how=\"left\", left_index=True, right_index=True)"
   ]
  },
  {
   "cell_type": "code",
   "execution_count": 19,
   "metadata": {
    "collapsed": false,
    "deletable": true,
    "editable": true
   },
   "outputs": [],
   "source": [
    "record_dates = record_dates.merge(recordCount, how=\"left\", left_index=True, right_index=True)"
   ]
  },
  {
   "cell_type": "code",
   "execution_count": 20,
   "metadata": {
    "collapsed": false,
    "deletable": true,
    "editable": true
   },
   "outputs": [],
   "source": [
    "record_dates = record_dates.merge(harvesterUrl, how=\"left\", left_index=True, right_index=True)"
   ]
  },
  {
   "cell_type": "code",
   "execution_count": null,
   "metadata": {
    "collapsed": false,
    "deletable": true,
    "editable": true
   },
   "outputs": [],
   "source": [
    "# remove stuff we haven't harvested in the last 30 days\n",
    "record_dates = record_dates[record_dates.lastIndexedDate >= (date.today() - timedelta(days=30)).strftime(\"%Y-%m-%d\")]"
   ]
  },
  {
   "cell_type": "code",
   "execution_count": null,
   "metadata": {
    "collapsed": false,
    "deletable": true,
    "editable": true
   },
   "outputs": [],
   "source": [
    "litecon = lite.connect('data/ojs_oai.db')\n",
    "countries = pd.read_sql(\"select archive_id, country, region_id, region_name from locales\", litecon, index_col='archive_id')\n",
    "countries.index = countries.index.astype(int)"
   ]
  },
  {
   "cell_type": "code",
   "execution_count": null,
   "metadata": {
    "collapsed": false,
    "deletable": true,
    "editable": true
   },
   "outputs": [],
   "source": [
    "record_dates = record_dates.merge(countries, how=\"left\", left_index=True, right_index=True)"
   ]
  },
  {
   "cell_type": "code",
   "execution_count": null,
   "metadata": {
    "collapsed": false,
    "deletable": true,
    "editable": true
   },
   "outputs": [],
   "source": [
    "installations = pd.read_sql(\"select archive_id, repository_identifier, ip, setName as journal_title, contact from journals\", litecon, index_col='archive_id')\n",
    "installations['install_id'] = installations.apply(lambda row: \"%s_%s\" % (row['repository_identifier'], row['ip']), axis=1)\n",
    "del installations['repository_identifier']\n",
    "del installations['ip']"
   ]
  },
  {
   "cell_type": "code",
   "execution_count": null,
   "metadata": {
    "collapsed": false,
    "deletable": true,
    "editable": true
   },
   "outputs": [],
   "source": [
    "record_dates = record_dates.merge(installations, how=\"left\", left_index=True, right_index=True)"
   ]
  },
  {
   "cell_type": "code",
   "execution_count": null,
   "metadata": {
    "collapsed": false,
    "deletable": true,
    "editable": true
   },
   "outputs": [],
   "source": [
    "record_dates = record_dates.reset_index().set_index('record_id')"
   ]
  },
  {
   "cell_type": "code",
   "execution_count": null,
   "metadata": {
    "collapsed": false,
    "deletable": true,
    "editable": true
   },
   "outputs": [],
   "source": [
    "# archive_settings cleanup to make Alex happy\n",
    "try: \n",
    "    del archive_settings\n",
    "except:\n",
    "    pass\n",
    "\n",
    "try:\n",
    "    del lastIndexedDate\n",
    "except:\n",
    "    pass\n",
    "\n",
    "try:\n",
    "    del recordCount\n",
    "except:\n",
    "    pass\n",
    "\n",
    "try:\n",
    "    del countries\n",
    "except:\n",
    "    pass    \n",
    "\n",
    "try:\n",
    "    del installations\n",
    "except:\n",
    "    pass    \n",
    "\n",
    "cleanedup = gc.collect()"
   ]
  },
  {
   "cell_type": "code",
   "execution_count": null,
   "metadata": {
    "collapsed": false,
    "deletable": true,
    "editable": true
   },
   "outputs": [],
   "source": [
    "year_regex = re.compile('.*(?:[^\\d\\-]|^)((?:1\\d|20)\\d{2})(?:\\)|\\;|$).*')\n",
    "\n",
    "# pull the year out of the ( ) if it is present\n",
    "def find_best_year(y, s):\n",
    "    try:\n",
    "        y = int(y)\n",
    "        if not (y <= date.today().year and y > 1000):\n",
    "            y = None  # this means an invalid year in dcdate\n",
    "    except:\n",
    "        y = None\n",
    "\n",
    "    try: \n",
    "        r=year_regex.match(s)\n",
    "        year_in_source = int(r.group(1))\n",
    "        if year_in_source <= date.today().year and year_in_source > 1000:\n",
    "            y = year_in_source\n",
    "    except:\n",
    "        pass\n",
    "\n",
    "    return y\n",
    "# We're doing chained assignment somewhere here, but its not a problem, so turn off warning\n",
    "pd.options.mode.chained_assignment = None \n",
    "\n",
    "#\n",
    "# a simple attempt at fixing wrong publication years by pulling a year from the source\n",
    "#\n",
    "record_dates['year'] = record_dates.dcdate.astype(str).map(lambda x: x[0:4])\n",
    "record_dates['year'] = record_dates.apply(lambda row: find_best_year(row['year'], row['source']), axis=1)\n",
    "\n",
    "# cleanup the years column\n",
    "record_dates = record_dates[record_dates.year > 0] # remove things that still have no date\n",
    "\n",
    "# and cast column to int to remove .0 from the end when it gets turned to str later\n",
    "record_dates['year'] = record_dates.year.astype(int)\n",
    "\n",
    "\n",
    "# update dates that are likely to be in the islamic calendar\n",
    "record_dates['year'] = record_dates.year.map(lambda x: x if ((x <= date.today().year) and (x >= 1900 - 622)) else x + 622)"
   ]
  },
  {
   "cell_type": "code",
   "execution_count": null,
   "metadata": {
    "collapsed": false,
    "deletable": true,
    "editable": true
   },
   "outputs": [],
   "source": [
    "# grab only those journals that have at least x articles in that year\n",
    "last_year = date.today().year - 1\n",
    "\n",
    "def filter_by_num_articles(n):\n",
    "    grouped=record_dates.reset_index().groupby(['year', 'archive_id'])\n",
    "\n",
    "    filtered = grouped.filter(lambda x: len(x) >= n)\n",
    "\n",
    "    journals_data = filtered.ix[:,['archive_id', 'year']]\n",
    "    journals_data.to_csv('data/journals_with_%s_articles_any_year.csv' % n)\n",
    "\n",
    "    journals_data = filtered[filtered['year'] == last_year].ix[:,['archive_id','year']]\n",
    "    journals_data.to_csv('data/journals_with_%s_articles_%s.csv' % (n, last_year))\n",
    "\n",
    "    return filtered, journals_data\n",
    "\n",
    "def filter_by_num_articles_last_two_years(n): \n",
    "    archive_ids = record_dates[record_dates.year.between(last_year-2, last_year-1)].groupby('archive_id').filter(lambda x: len(x) >= n).archive_id.unique()\n",
    "    filtered = record_dates[record_dates.archive_id.isin(archive_ids)]\n",
    "    return filtered\n",
    "\n",
    "article_threshold = 10\n",
    "filtered, journals_data = filter_by_num_articles(article_threshold)\n",
    "# filtered = filter_by_num_articles_last_two_years(article_threshold)"
   ]
  },
  {
   "cell_type": "code",
   "execution_count": null,
   "metadata": {
    "collapsed": false,
    "deletable": true,
    "editable": true
   },
   "outputs": [],
   "source": [
    "countdata = {}\n",
    "articles_per_journal = {}\n",
    "# record_dates = record_dates[record_dates.year >= 1990]\n",
    "if date.today().month > 4: \n",
    "    last_year = date.today().year - 1\n",
    "else:\n",
    "    last_year = date.today().year - 2\n",
    "    \n",
    "for year in map(int, sorted(record_dates.year.unique())):\n",
    "    if year < 1990 or year > last_year:\n",
    "        continue\n",
    "        \n",
    "    count_journals = len(filtered[filtered[\"year\"]==year].archive_id.unique())\n",
    "    count_articles = len(filtered[filtered[\"year\"]==year])\n",
    "    count_hosts = len(filtered[filtered[\"year\"]==year].install_id.unique())\n",
    "    avg_articles_per_journal = filtered[filtered['year']==year].groupby(['year', 'archive_id']).apply(len).mean()\n",
    "\n",
    "    # num_journals, num_articles, num_hosts\n",
    "    countdata[year] = [count_journals, count_articles, count_hosts, avg_articles_per_journal]\n",
    "\n",
    "    # get number of articles per journal per year\n",
    "    # count, mean, std, min, 25%, 50%, 75%, max\n",
    "    articles_per_journal[year] = record_dates[record_dates['year']==year].groupby('archive_id').size().describe().tolist()\n",
    "\n",
    "print \"Total number of journals in %s: %s\" % (year, count_journals)\n",
    "\n",
    "# write the journal/article/hosts count\n",
    "f = open('data/ojs_counts.csv', 'wb')\n",
    "csvWriter = csv.writer(f)\n",
    "csvWriter.writerow(['year', 'journals', 'articles', 'hosts', 'avgnumarts'])\n",
    "for year, data in countdata.iteritems():\n",
    "    csvWriter.writerow([year] + data)\n",
    "f.close()\n",
    "\n",
    "# write the articles per year counts\n",
    "f = open('data/articles_per_journal.csv', 'wb')\n",
    "csvWriter = csv.writer(f)\n",
    "csvWriter.writerow(['year', 'count', 'mean', 'std', 'min', 'p25', 'p50', 'p75', 'max'])\n",
    "for year, data in articles_per_journal.iteritems():\n",
    "    csvWriter.writerow([year] + data)\n",
    "f.close()\n",
    "\n",
    "# write the number of journals per country\n",
    "filtered_country = filtered.groupby(['year', 'country', 'region_id', 'region_name']).archive_id.unique().apply(len)\n",
    "filtered_country.to_csv('data/journals_per_country.csv', header=True)"
   ]
  },
  {
   "cell_type": "code",
   "execution_count": null,
   "metadata": {
    "collapsed": false,
    "deletable": true,
    "editable": true
   },
   "outputs": [],
   "source": [
    "all_journals = record_dates[['archive_id', 'journal_title', 'url', 'contact', 'lastIndexedDate', 'recordCount', 'country', 'region_name']].set_index('archive_id', drop=True).drop_duplicates()"
   ]
  },
  {
   "cell_type": "code",
   "execution_count": null,
   "metadata": {
    "collapsed": false,
    "deletable": true,
    "editable": true
   },
   "outputs": [],
   "source": [
    "for y in countdata: \n",
    "    all_journals[y] = all_journals.index.isin(filtered[filtered[\"year\"] == y].archive_id)\n",
    "\n",
    "all_journals['any_year'] = all_journals.index.isin(filtered[filtered[\"year\"].between(min(countdata.keys()), max(countdata.keys()))].archive_id)"
   ]
  },
  {
   "cell_type": "code",
   "execution_count": null,
   "metadata": {
    "collapsed": false,
    "deletable": true,
    "editable": true
   },
   "outputs": [],
   "source": [
    "all_journals.to_csv('data/all_journals.csv', header=True, encoding='utf8')"
   ]
  },
  {
   "cell_type": "code",
   "execution_count": null,
   "metadata": {
    "collapsed": false,
    "deletable": true,
    "editable": true
   },
   "outputs": [],
   "source": [
    "print \"Number of reachable installations: %s\" % len(record_dates.install_id.unique())\n",
    "print \"Number of countries: %s\" % len(record_dates.country.unique())\n",
    "print \"Number of world regions: %s\" % len(record_dates.region_name.unique())\n",
    "\n",
    "print \"Number of journals with > %s articles in previous two years: %s\" % (article_threshold, len(filtered.archive_id.unique()))"
   ]
  },
  {
   "cell_type": "code",
   "execution_count": null,
   "metadata": {
    "collapsed": false,
    "deletable": true,
    "editable": true
   },
   "outputs": [],
   "source": [
    "print \"Top by countries for %s: \" % last_year\n",
    "filtered_country = filtered[filtered.year==last_year].groupby(['country', 'region_id', 'region_name']).archive_id.unique().apply(len).reset_index()\n",
    "filtered_country.sort('archive_id', ascending=False).head(10)"
   ]
  },
  {
   "cell_type": "code",
   "execution_count": null,
   "metadata": {
    "collapsed": false,
    "deletable": true,
    "editable": true
   },
   "outputs": [],
   "source": [
    "try: \n",
    "    import urllib2\n",
    "    request = urllib2.Request(\"http://api.worldbank.org/countries?per_page=500&format=json\" ,headers={'User-Agent' : \"PKP using urllib2\"})\n",
    "    response = urllib2.urlopen(request, timeout=30)\n",
    "    with open('data/worldbank.json', 'w') as f:\n",
    "        f.write(response.read())\n",
    "except:\n",
    "    pass\n",
    "    \n",
    "with open('data/worldbank.json') as f:\n",
    "    response = f.read()\n",
    "\n",
    "wb_country_data = json.loads(response)[1]\n",
    "wb_country_income_map = {w['id'].lower(): w['incomeLevel']['id'] for w in wb_country_data}\n",
    "filtered['incomeLevel'] = filtered.country.apply(lambda x: wb_country_income_map[x] if x in wb_country_income_map else None)\n",
    "income_level_names = {w['incomeLevel']['id']: w['incomeLevel']['value'] for w in wb_country_data}"
   ]
  },
  {
   "cell_type": "code",
   "execution_count": null,
   "metadata": {
    "collapsed": false,
    "deletable": true,
    "editable": true
   },
   "outputs": [],
   "source": [
    "{w['region']['id'].lower(): w['region']['value'] for w in wb_country_data}"
   ]
  },
  {
   "cell_type": "code",
   "execution_count": null,
   "metadata": {
    "collapsed": false,
    "deletable": true,
    "editable": true
   },
   "outputs": [],
   "source": [
    "print \"Regions sorted for %s: \" % last_year\n",
    "filtered_country = filtered[filtered.year==last_year].groupby(['region_id', 'region_name']).archive_id.unique().apply(len).reset_index()\n",
    "print filtered_country.sort('archive_id', ascending=False)\n",
    "print \n",
    "print \"North America & Europe: %s\" % filtered_country[filtered_country.region_id.isin(['NAC', 'ECS'])].archive_id.sum()\n",
    "print \"Total: %s\" % filtered_country.archive_id.sum()"
   ]
  },
  {
   "cell_type": "code",
   "execution_count": null,
   "metadata": {
    "collapsed": false,
    "deletable": true,
    "editable": true
   },
   "outputs": [],
   "source": [
    "filtered_income = filtered.groupby('incomeLevel').archive_id.unique().apply(len).reset_index()\n",
    "filtered_income.set_index('incomeLevel', inplace=True)\n",
    "filtered_income.columns = ['journals']\n",
    "# filtered_income.reindex([u'LIC', u'LMC', u'UMC', u'HIC', u'INX']).plot(kind=\"bar\")\n",
    "print filtered_income.sort('journals', ascending=False)"
   ]
  },
  {
   "cell_type": "code",
   "execution_count": null,
   "metadata": {
    "collapsed": false,
    "deletable": true,
    "editable": true
   },
   "outputs": [],
   "source": [
    "def by_income(l):\n",
    "    x = filtered_income.ix[l].sum()[0]\n",
    "    return (x, 100.0*x/filtered_income['journals'].sum())\n",
    "print \"Low income: %s (%.2f%%)\" % by_income(['LIC'])\n",
    "print \"Lower-middle income: %s (%.2f%%)\" % by_income(['LMC'])\n",
    "print \"Upper middle income %s (%.2f%%)\" % by_income(['UMC'])\n",
    "print \"High income %s (%.2f%%)\" % by_income(['HIC'])\n",
    "print \"Not Classified %s (%.2f%%)\" % by_income(['INX'])"
   ]
  },
  {
   "cell_type": "code",
   "execution_count": null,
   "metadata": {
    "collapsed": false,
    "deletable": true,
    "editable": true
   },
   "outputs": [],
   "source": [
    "def by_income(l):\n",
    "    x = len(filtered_income[filtered_income.incomeLevel.isin(l)])\n",
    "    return (x, 100.0*x/len(filtered_income))\n",
    "\n",
    "filtered_income = filtered[filtered.year == 2015]\n",
    "print \"Low income: %s (%.1f%%)\" % by_income(['LIC'])\n",
    "print \"Lower-middle income: %s (%.1f%%)\" % by_income(['LMC'])\n",
    "print \"Upper middle income %s (%.1f%%)\" % by_income(['UMC'])\n",
    "print \"High income %s (%.1f%%)\" % by_income(['HIC'])\n",
    "print \"Not Classified %s (%.2f%%)\" % by_income(['INX'])"
   ]
  },
  {
   "cell_type": "code",
   "execution_count": null,
   "metadata": {
    "collapsed": false,
    "deletable": true,
    "editable": true
   },
   "outputs": [],
   "source": [
    "df = filtered_income.copy()\n",
    "# df['incomeLevel'] = df.incomeLevel.map(lambda x: x if x != 'NOC' and x != 'OEC' else 'HIC')\n",
    "df = df.groupby(['incomeLevel', 'archive_id']).apply(len) # this is 2015, see above\n",
    "df = df.reset_index().groupby('incomeLevel').mean()\n",
    "df[0].head()"
   ]
  },
  {
   "cell_type": "code",
   "execution_count": null,
   "metadata": {
    "collapsed": false,
    "deletable": true,
    "editable": true
   },
   "outputs": [],
   "source": [
    "print \"Number of articles since 1990: %s\" % sum([x[1] for x in countdata.itervalues()])"
   ]
  },
  {
   "cell_type": "code",
   "execution_count": null,
   "metadata": {
    "collapsed": false,
    "deletable": true,
    "editable": true
   },
   "outputs": [],
   "source": [
    "df = record_dates.groupby(['year', 'archive_id']).apply(len).reset_index()\n",
    "y = 2010\n",
    "print \"On average %.2f articles per year since %s\" % (df[df.year >= y][0].mean(), y)\n",
    "print \"On average %.2f articles per year before %s\" % (df[df.year < y][0].mean(), y)\n",
    "\n",
    "df = df[(df.year >= 1990) & (df.year<=last_year)].groupby('year')[0].mean()\n",
    "# print\n",
    "# print df\n",
    "# df.plot(kind=\"bar\", title=\"Average Number of articles per journal\")"
   ]
  },
  {
   "cell_type": "code",
   "execution_count": null,
   "metadata": {
    "collapsed": false,
    "deletable": true,
    "editable": true
   },
   "outputs": [],
   "source": [
    "# archive_settings[archive_settings.setting_name .head()"
   ]
  },
  {
   "cell_type": "code",
   "execution_count": null,
   "metadata": {
    "collapsed": false,
    "deletable": true,
    "editable": true
   },
   "outputs": [],
   "source": [
    "# df['domain'] = df.url.map(lambda x: urlparse(x).netloc if str(x) > 4 and str(x)[0:4] == 'http' else None)"
   ]
  },
  {
   "cell_type": "code",
   "execution_count": null,
   "metadata": {
    "collapsed": false,
    "deletable": true,
    "editable": true
   },
   "outputs": [],
   "source": [
    "# df_acuks = df[df.domain.str.endswith('ac.uk').fillna(False)]"
   ]
  },
  {
   "cell_type": "code",
   "execution_count": null,
   "metadata": {
    "collapsed": false,
    "deletable": true,
    "editable": true
   },
   "outputs": [],
   "source": [
    "# harvesterUrl = archive_settings[archive_settings.setting_name == 'harvesterUrl'][['setting_value']]\n",
    "# harvesterUrl.columns=['url']\n",
    "# harvesterUrl['url'] = harvesterUrl.url.apply(find_journal_url)"
   ]
  },
  {
   "cell_type": "code",
   "execution_count": null,
   "metadata": {
    "collapsed": false,
    "deletable": true,
    "editable": true
   },
   "outputs": [],
   "source": [
    "# all_journals.ix[3138]"
   ]
  },
  {
   "cell_type": "code",
   "execution_count": null,
   "metadata": {
    "collapsed": false,
    "deletable": true,
    "editable": true
   },
   "outputs": [],
   "source": [
    "# df_acuks[['journal_title', 'url', 'recordCount']].sort('recordCount', ascending=False).to_excel('data/acuks_for_2015.xls')"
   ]
  },
  {
   "cell_type": "code",
   "execution_count": 4,
   "metadata": {
    "collapsed": false,
    "deletable": true,
    "editable": true
   },
   "outputs": [],
   "source": [
    "df = pd.read_csv('data/archives.csv', encoding='utf8', escapechar='\\\\')"
   ]
  },
  {
   "cell_type": "code",
   "execution_count": 30,
   "metadata": {
    "collapsed": false
   },
   "outputs": [
    {
     "ename": "AttributeError",
     "evalue": "'DataFrame' object has no attribute 'url'",
     "output_type": "error",
     "traceback": [
      "\u001b[0;31m---------------------------------------------------------------------------\u001b[0m",
      "\u001b[0;31mAttributeError\u001b[0m                            Traceback (most recent call last)",
      "\u001b[0;32m<ipython-input-30-7669e7a211e8>\u001b[0m in \u001b[0;36m<module>\u001b[0;34m()\u001b[0m\n\u001b[0;32m----> 1\u001b[0;31m \u001b[0mdf\u001b[0m\u001b[0;34m[\u001b[0m\u001b[0mdf\u001b[0m\u001b[0;34m.\u001b[0m\u001b[0murl\u001b[0m\u001b[0;34m.\u001b[0m\u001b[0mstr\u001b[0m\u001b[0;34m.\u001b[0m\u001b[0mcontains\u001b[0m\u001b[0;34m(\u001b[0m\u001b[0;34m'www.upf.br/seer/index.php/ser'\u001b[0m\u001b[0;34m)\u001b[0m\u001b[0;34m]\u001b[0m\u001b[0;34m\u001b[0m\u001b[0m\n\u001b[0m",
      "\u001b[0;32m/usr/local/lib/python3.6/site-packages/pandas/core/generic.py\u001b[0m in \u001b[0;36m__getattr__\u001b[0;34m(self, name)\u001b[0m\n\u001b[1;32m   2742\u001b[0m             \u001b[0;32mif\u001b[0m \u001b[0mname\u001b[0m \u001b[0;32min\u001b[0m \u001b[0mself\u001b[0m\u001b[0;34m.\u001b[0m\u001b[0m_info_axis\u001b[0m\u001b[0;34m:\u001b[0m\u001b[0;34m\u001b[0m\u001b[0m\n\u001b[1;32m   2743\u001b[0m                 \u001b[0;32mreturn\u001b[0m \u001b[0mself\u001b[0m\u001b[0;34m[\u001b[0m\u001b[0mname\u001b[0m\u001b[0;34m]\u001b[0m\u001b[0;34m\u001b[0m\u001b[0m\n\u001b[0;32m-> 2744\u001b[0;31m             \u001b[0;32mreturn\u001b[0m \u001b[0mobject\u001b[0m\u001b[0;34m.\u001b[0m\u001b[0m__getattribute__\u001b[0m\u001b[0;34m(\u001b[0m\u001b[0mself\u001b[0m\u001b[0;34m,\u001b[0m \u001b[0mname\u001b[0m\u001b[0;34m)\u001b[0m\u001b[0;34m\u001b[0m\u001b[0m\n\u001b[0m\u001b[1;32m   2745\u001b[0m \u001b[0;34m\u001b[0m\u001b[0m\n\u001b[1;32m   2746\u001b[0m     \u001b[0;32mdef\u001b[0m \u001b[0m__setattr__\u001b[0m\u001b[0;34m(\u001b[0m\u001b[0mself\u001b[0m\u001b[0;34m,\u001b[0m \u001b[0mname\u001b[0m\u001b[0;34m,\u001b[0m \u001b[0mvalue\u001b[0m\u001b[0;34m)\u001b[0m\u001b[0;34m:\u001b[0m\u001b[0;34m\u001b[0m\u001b[0m\n",
      "\u001b[0;31mAttributeError\u001b[0m: 'DataFrame' object has no attribute 'url'"
     ]
    }
   ],
   "source": [
    "df[df.url.str.contains('www.upf.br/seer/index.php/ser')]"
   ]
  },
  {
   "cell_type": "code",
   "execution_count": 72,
   "metadata": {
    "collapsed": false,
    "deletable": true,
    "editable": true,
    "scrolled": true
   },
   "outputs": [
    {
     "data": {
      "text/plain": [
       "url\n",
       "http://publicaciones.apuruguay.org/index.php/RUP1                     57\n",
       "http://www.rhythmos.gr/index.php/Rhythmos                             32\n",
       "http://www.upf.br/seer/index.php/ph                                    7\n",
       "http://www.equinoxpub.com/journals/JALPP                               7\n",
       "http://www.equinoxpub.com/journals/HSCC                                7\n",
       "http://www.equinoxpub.com/journals/IJSLL                               7\n",
       "http://www.equinoxpub.com/journals/IJSNR                               7\n",
       "http://www.equinoxpub.com/journals/IR                                  7\n",
       "http://www.equinoxpub.com/journals/ISIT                                7\n",
       "http://www.equinoxpub.com/journals/JAL                                 7\n",
       "http://www.equinoxpub.com/journals/JASR                                7\n",
       "http://www.equinoxpub.com/journals/FIR                                 7\n",
       "http://www.equinoxpub.com/journals/JAZZ                                7\n",
       "http://www.equinoxpub.com/journals/JCA                                 7\n",
       "http://www.equinoxpub.com/journals/JCH                                 7\n",
       "http://www.equinoxpub.com/journals/JCSR                                7\n",
       "http://www.equinoxpub.com/journals/JFM                                 7\n",
       "http://www.equinoxpub.com/journals/GL                                  7\n",
       "http://www.equinoxpub.com/journals/EFMS                                7\n",
       "http://www.equinoxpub.com/journals/EPH                                 7\n",
       "http://www.equinoxpub.com/journals/JIA                                 7\n",
       "http://www.equinoxpub.com/journals/EAP                                 7\n",
       "http://www.equinoxpub.com/journals/Delights                            7\n",
       "http://www.equinoxpub.com/journals/CIS                                 7\n",
       "http://ermjournal.org/index.php/JERM                                   7\n",
       "http://www.upf.br/seer/index.php/ser                                   7\n",
       "http://www.upf.br/seer/index.php/rtee                                  7\n",
       "http://www.upf.br/seer/index.php/rsaee                                 7\n",
       "http://www.upf.br/seer/index.php/rjd                                   7\n",
       "http://www.upf.br/seer/index.php/rhdt                                  7\n",
       "                                                                      ..\n",
       "http://revistascientificas.filo.uba.ar/index.php/matadero              1\n",
       "http://revistascientificas.filo.uba.ar/index.php/iice                  1\n",
       "http://revistascientificas.filo.uba.ar/index.php/filologia             1\n",
       "http://revistascientificas.filo.uba.ar/index.php/esnoa                 1\n",
       "http://revistascientificas.filo.uba.ar/index.php/analesHAMM            1\n",
       "http://revistascientificas.filo.uba.ar/index.php/afc                   1\n",
       "http://revistascientificas.filo.uba.ar/index.php/MA                    1\n",
       "http://revistascientificas.filo.uba.ar/index.php/ICS                   1\n",
       "http://revistascientificas.filo.uba.ar/index.php/HVM                   1\n",
       "http://revistascientificas.filo.uba.ar/index.php/CdF                   1\n",
       "http://revistascientificas.filo.uba.ar/index.php/CAS                   1\n",
       "http://revistascientificas.filo.uba.ar/index.php/rtt                   1\n",
       "http://revistascientificas.filo.uba.ar/index.php/runa                  1\n",
       "http://revistascientificas.filo.uba.ar/index.php/surandino             1\n",
       "http://revistascientificas.upeu.edu.pe/index.php/rc_salud              1\n",
       "http://revistascientificas.upeu.edu.pe/index.php/ri_ctd                1\n",
       "http://revistascientificas.upeu.edu.pe/index.php/ri_ce                 1\n",
       "http://revistascientificas.upeu.edu.pe/index.php/ri_bi                 1\n",
       "http://revistascientificas.upeu.edu.pe/index.php/ri_apsicologia        1\n",
       "http://revistascientificas.upeu.edu.pe/index.php/ri_apfb               1\n",
       "http://revistascientificas.upeu.edu.pe/index.php/ri_alimentos          1\n",
       "http://revistascientificas.upeu.edu.pe/index.php/ra_universitarios     1\n",
       "http://revistascientificas.filo.uba.ar/index.php/sys                   1\n",
       "http://revistascientificas.upeu.edu.pe/index.php/r_theologika          1\n",
       "http://revistascientificas.upeu.edu.pe/index.php/r_estrategias         1\n",
       "http://revistascientificas.upeu.edu.pe/index.php/r_berit               1\n",
       "http://revistascientificas.upeu.edu.pe/index.php/r_actus               1\n",
       "http://revistascientificas.filo.uba.ar/index.php/zama                  1\n",
       "http://revistascientificas.filo.uba.ar/index.php/telondefondo          1\n",
       "http://0-mountainrise.wcu.edu.wncln.wncln.org/index.php/MtnRise        1\n",
       "dtype: int64"
      ]
     },
     "execution_count": 72,
     "metadata": {},
     "output_type": "execute_result"
    }
   ],
   "source": [
    "df.groupby('url').size().sort_values(ascending=False)\n"
   ]
  },
  {
   "cell_type": "code",
   "execution_count": 79,
   "metadata": {
    "collapsed": false,
    "deletable": true,
    "editable": true
   },
   "outputs": [
    {
     "data": {
      "text/plain": [
       "[38503, 39369, 40131, 41900, 42144, 44603, 44849]"
      ]
     },
     "execution_count": 79,
     "metadata": {},
     "output_type": "execute_result"
    }
   ],
   "source": [
    "l = map(int, list(df[df.url == 'http://www.equinoxpub.com/journals/HSCC'].archive_id.unique()))\n",
    "[x for x in l]"
   ]
  },
  {
   "cell_type": "code",
   "execution_count": 76,
   "metadata": {
    "collapsed": false,
    "deletable": true,
    "editable": true
   },
   "outputs": [],
   "source": [
    "df.groupby('url')"
   ]
  },
  {
   "cell_type": "code",
   "execution_count": 9,
   "metadata": {
    "collapsed": false,
    "deletable": true,
    "editable": true
   },
   "outputs": [
    {
     "data": {
      "text/html": [
       "<div>\n",
       "<table border=\"1\" class=\"dataframe\">\n",
       "  <thead>\n",
       "    <tr style=\"text-align: right;\">\n",
       "      <th></th>\n",
       "      <th>setting_name</th>\n",
       "      <th>setting_value</th>\n",
       "      <th>type</th>\n",
       "    </tr>\n",
       "    <tr>\n",
       "      <th>archive_id</th>\n",
       "      <th></th>\n",
       "      <th></th>\n",
       "      <th></th>\n",
       "    </tr>\n",
       "  </thead>\n",
       "  <tbody>\n",
       "    <tr>\n",
       "      <th>41684</th>\n",
       "      <td>harvesterUrl</td>\n",
       "      <td>http://www.revistas.unc.edu.ar/index.php/epio/oai</td>\n",
       "      <td>string</td>\n",
       "    </tr>\n",
       "    <tr>\n",
       "      <th>41684</th>\n",
       "      <td>ip</td>\n",
       "      <td>200.16.16.154</td>\n",
       "      <td>string</td>\n",
       "    </tr>\n",
       "    <tr>\n",
       "      <th>41684</th>\n",
       "      <td>lastIndexedDate</td>\n",
       "      <td>2017-03-22 21:44:56</td>\n",
       "      <td>string</td>\n",
       "    </tr>\n",
       "    <tr>\n",
       "      <th>41684</th>\n",
       "      <td>oaiIndexMethod</td>\n",
       "      <td>1</td>\n",
       "      <td>string</td>\n",
       "    </tr>\n",
       "    <tr>\n",
       "      <th>41684</th>\n",
       "      <td>recordCount</td>\n",
       "      <td>24</td>\n",
       "      <td>int</td>\n",
       "    </tr>\n",
       "    <tr>\n",
       "      <th>43318</th>\n",
       "      <td>harvesterUrl</td>\n",
       "      <td>http://revistas.unc.edu.ar/index.php/epio/oai</td>\n",
       "      <td>string</td>\n",
       "    </tr>\n",
       "    <tr>\n",
       "      <th>43318</th>\n",
       "      <td>ip</td>\n",
       "      <td>200.16.16.60</td>\n",
       "      <td>string</td>\n",
       "    </tr>\n",
       "    <tr>\n",
       "      <th>43318</th>\n",
       "      <td>lastIndexedDate</td>\n",
       "      <td>2017-03-29 19:09:34</td>\n",
       "      <td>string</td>\n",
       "    </tr>\n",
       "    <tr>\n",
       "      <th>43318</th>\n",
       "      <td>oaiIndexMethod</td>\n",
       "      <td>1</td>\n",
       "      <td>string</td>\n",
       "    </tr>\n",
       "    <tr>\n",
       "      <th>43318</th>\n",
       "      <td>recordCount</td>\n",
       "      <td>9</td>\n",
       "      <td>int</td>\n",
       "    </tr>\n",
       "  </tbody>\n",
       "</table>\n",
       "</div>"
      ],
      "text/plain": [
       "               setting_name  \\\n",
       "archive_id                    \n",
       "41684          harvesterUrl   \n",
       "41684                    ip   \n",
       "41684       lastIndexedDate   \n",
       "41684        oaiIndexMethod   \n",
       "41684           recordCount   \n",
       "43318          harvesterUrl   \n",
       "43318                    ip   \n",
       "43318       lastIndexedDate   \n",
       "43318        oaiIndexMethod   \n",
       "43318           recordCount   \n",
       "\n",
       "                                                setting_value    type  \n",
       "archive_id                                                             \n",
       "41684       http://www.revistas.unc.edu.ar/index.php/epio/oai  string  \n",
       "41684                                           200.16.16.154  string  \n",
       "41684                                     2017-03-22 21:44:56  string  \n",
       "41684                                                       1  string  \n",
       "41684                                                      24     int  \n",
       "43318           http://revistas.unc.edu.ar/index.php/epio/oai  string  \n",
       "43318                                            200.16.16.60  string  \n",
       "43318                                     2017-03-29 19:09:34  string  \n",
       "43318                                                       1  string  \n",
       "43318                                                       9     int  "
      ]
     },
     "execution_count": 9,
     "metadata": {},
     "output_type": "execute_result"
    }
   ],
   "source": [
    "archive_settings[archive_settings.index.isin([41684, 43318])]"
   ]
  },
  {
   "cell_type": "code",
   "execution_count": 10,
   "metadata": {
    "collapsed": false,
    "deletable": true,
    "editable": true
   },
   "outputs": [
    {
     "name": "stderr",
     "output_type": "stream",
     "text": [
      "/usr/local/lib/python3.6/site-packages/ipykernel/__main__.py:1: UserWarning: Boolean Series key will be reindexed to match DataFrame index.\n",
      "  if __name__ == '__main__':\n"
     ]
    },
    {
     "data": {
      "text/html": [
       "<div>\n",
       "<table border=\"1\" class=\"dataframe\">\n",
       "  <thead>\n",
       "    <tr style=\"text-align: right;\">\n",
       "      <th></th>\n",
       "      <th>record_id</th>\n",
       "      <th>dcdate</th>\n",
       "      <th>source</th>\n",
       "    </tr>\n",
       "    <tr>\n",
       "      <th>archive_id</th>\n",
       "      <th></th>\n",
       "      <th></th>\n",
       "      <th></th>\n",
       "    </tr>\n",
       "  </thead>\n",
       "  <tbody>\n",
       "  </tbody>\n",
       "</table>\n",
       "</div>"
      ],
      "text/plain": [
       "Empty DataFrame\n",
       "Columns: [record_id, dcdate, source]\n",
       "Index: []"
      ]
     },
     "execution_count": 10,
     "metadata": {},
     "output_type": "execute_result"
    }
   ],
   "source": [
    "record_dates[record_dates.reset_index()['archive_id'].isin([41684, 43318])]"
   ]
  },
  {
   "cell_type": "code",
   "execution_count": 16,
   "metadata": {
    "collapsed": false
   },
   "outputs": [],
   "source": [
    "df = pd.read_csv('data/ojs_in_logs.csv', header=None)\n",
    "df.columns = ['base_url', 'first_found', 'product', 'version']"
   ]
  },
  {
   "cell_type": "code",
   "execution_count": 23,
   "metadata": {
    "collapsed": false
   },
   "outputs": [],
   "source": [
    "df.groupby('base_url').first().to_csv('data/ojs_in_logs.csv')"
   ]
  },
  {
   "cell_type": "code",
   "execution_count": 29,
   "metadata": {
    "collapsed": false
   },
   "outputs": [
    {
     "name": "stdout",
     "output_type": "stream",
     "text": [
      "Error 2003: Can't connect to MySQL server on '192.168.24.80' (timed out)\n"
     ]
    },
    {
     "ename": "SystemExit",
     "evalue": "1",
     "output_type": "error",
     "traceback": [
      "An exception has occurred, use %tb to see the full traceback.\n",
      "\u001b[0;31mSystemExit\u001b[0m\u001b[0;31m:\u001b[0m 1\n"
     ]
    },
    {
     "name": "stderr",
     "output_type": "stream",
     "text": [
      "/usr/local/lib/python3.6/site-packages/IPython/core/interactiveshell.py:2889: UserWarning: To exit: use 'exit', 'quit', or Ctrl-D.\n",
      "  warn(\"To exit: use 'exit', 'quit', or Ctrl-D.\", stacklevel=1)\n"
     ]
    }
   ],
   "source": [
    "import sys\n",
    "import sqlite3 as lite\n",
    "import pymysql as mdb\n",
    "\n",
    "import re\n",
    "\n",
    "litecon = lite.connect('data/ojs_oai.db')\n",
    "\n",
    "con = None\n",
    "try:\n",
    "    # connect\n",
    "    con = mdb.connect(host = '192.168.24.80', user = 'harvester2_pkp', passwd = 'Z1ffwLerZjQdQc3f', db = 'harvester2_pkp', use_unicode=True, charset=\"utf8\")\n",
    "\n",
    "    cur = con.cursor()\n",
    "\n",
    "except mdb.Error as e:\n",
    "    print(\"Error %d: %s\" % (e.args[0],e.args[1]))\n",
    "    sys.exit(1)"
   ]
  },
  {
   "cell_type": "code",
   "execution_count": 32,
   "metadata": {
    "collapsed": true
   },
   "outputs": [],
   "source": [
    "archives = pd.read_csv('data/archives.csv', encoding='utf8', escapechar='\\\\')"
   ]
  },
  {
   "cell_type": "code",
   "execution_count": 41,
   "metadata": {
    "collapsed": false
   },
   "outputs": [
    {
     "name": "stdout",
     "output_type": "stream",
     "text": [
      "http://acta.fapz.uniag.sk/index.php/on_line 1\n",
      "http://ejournal.candradimukamap.ac.id/index.php/jap 1\n",
      "http://er.riteh.hr/index.php/ER 1\n",
      "http://jacsses.bases.org.uk/index.php/JACSSES 1\n",
      "http://jamal.ub.ac.id/index.php/jamal 1\n",
      "http://jfsh.tums.ac.ir/index.php/jfsh 1\n",
      "http://jmes.it/index.php/jmes 1\n",
      "http://journals.sun.ac.za/index.php/sajev 1\n",
      "http://journals.us.edu.pl/index.php/PP 1\n",
      "http://journals.usamvcluj.ro/index.php/agricultura 1\n",
      "http://journals.usamvcluj.ro/index.php/agriculture 1\n",
      "http://journals.usamvcluj.ro/index.php/buletinasas 1\n",
      "http://journals.usamvcluj.ro/index.php/fst 1\n",
      "http://journals.usamvcluj.ro/index.php/hamei 1\n",
      "http://journals.usamvcluj.ro/index.php/horticulture 1\n",
      "http://journals.usamvcluj.ro/index.php/promediu 1\n",
      "http://journals.usamvcluj.ro/index.php/protectia 1\n",
      "http://journals.usamvcluj.ro/index.php/veterinary 1\n",
      "http://journals.usamvcluj.ro/index.php/zootehnie 1\n",
      "http://jurnal.himpsi.or.id/index.php/JPI 1\n",
      "http://mouvement-social.univ-paris1.fr/soumettre/index.php/lms 1\n",
      "http://mrujs.mtroyal.ca/index.php/IJLL 1\n",
      "http://mrujs.mtroyal.ca/index.php/asset 1\n",
      "http://mrujs.mtroyal.ca/index.php/bsuj 1\n",
      "http://mrujs.mtroyal.ca/index.php/cf 1\n",
      "http://mrujs.mtroyal.ca/index.php/eth 1\n",
      "http://mrujs.mtroyal.ca/index.php/jusr 1\n",
      "http://mrujs.mtroyal.ca/index.php/mruer 1\n",
      "http://mrujs.mtroyal.ca/index.php/mruhr 1\n",
      "http://mrujs.mtroyal.ca/index.php/mrujns 1\n",
      "http://ojs.escire.net/signos/index.php/SF 1\n",
      "http://ojs.escire.net/signos/index.php/SH 1\n",
      "http://ojs.escire.net/signos/index.php/SLING 1\n",
      "http://ojs.escire.net/signos/index.php/SLIT 1\n",
      "http://ojs.upv.es/rdp/index.php/rdp 1\n",
      "http://openjs.bolton.ac.uk/index.php/JOLAE 1\n",
      "http://p211696.mittwaldserver.info/ojs/index.php/cc 1\n",
      "http://pcsp.libraries.rutgers.edu/index.php/ejbe 1\n",
      "http://pcsp.libraries.rutgers.edu/index.php/jep 1\n",
      "http://pcsp.libraries.rutgers.edu/index.php/jrul 1\n",
      "http://pcsp.libraries.rutgers.edu/index.php/njh 1\n",
      "http://pcsp.libraries.rutgers.edu/index.php/pcsp 1\n",
      "http://periodicos.pucminas.br/index.php/Arquiteturaeurbanismo 1\n",
      "http://periodicos.pucminas.br/index.php/Arquivobrasileirodontologia 1\n",
      "http://periodicos.pucminas.br/index.php/abakos 1\n",
      "http://periodicos.pucminas.br/index.php/arquivobrasileiroeducacao 1\n",
      "http://periodicos.pucminas.br/index.php/cadernoscespuc 1\n",
      "http://periodicos.pucminas.br/index.php/cadernoshistoria 1\n",
      "http://periodicos.pucminas.br/index.php/conjuntura 1\n",
      "http://periodicos.pucminas.br/index.php/contraponto 1\n",
      "http://periodicos.pucminas.br/index.php/dispositiva 1\n",
      "http://periodicos.pucminas.br/index.php/enfermagemrevista 1\n",
      "http://periodicos.pucminas.br/index.php/estudosinternacionais 1\n",
      "http://periodicos.pucminas.br/index.php/fronteira 1\n",
      "http://periodicos.pucminas.br/index.php/geografia 1\n",
      "http://periodicos.pucminas.br/index.php/historiaemcurso 1\n",
      "http://periodicos.pucminas.br/index.php/horizonte 1\n",
      "http://periodicos.pucminas.br/index.php/interacoes 1\n",
      "http://periodicos.pucminas.br/index.php/pedagogiacao 1\n",
      "http://periodicos.pucminas.br/index.php/percursoacademico 1\n",
      "http://programs.icfoss.org/ojs/index.php/mlm 1\n",
      "http://qudoublehelixjournal.org/index.php/dh 1\n",
      "http://rrhlm.org/index.php/RRHLM 1\n",
      "http://serv-bib.fcfar.unesp.br/seer/index.php/Cien_Farm 1\n",
      "http://serv-bib.fcfar.unesp.br/seer/index.php/alimentos 1\n",
      "http://serv-bib.fcfar.unesp.br/seer/index.php/treino 1\n",
      "http://vavilov.elpub.ru/index.php/jour 1\n",
      "http://www.agronomy.it/index.php/agro 1\n",
      "http://www.bioinformation.net/ojs/index.php/online 1\n",
      "http://www.cesrei.com.br/ojs/index.php/orbis 1\n",
      "http://www.dcthink.org/index.php/aps 1\n",
      "http://www.edergi.mu.edu.tr/index.php/deneme 1\n",
      "http://www.edergi.mu.edu.tr/index.php/efdergi 1\n",
      "http://www.edergi.mu.edu.tr/index.php/tipdergisi 1\n",
      "http://www.historia-actual.org/Publicaciones/index.php/haol 1\n",
      "http://www.historia-actual.org/Publicaciones/index.php/rha 1\n",
      "http://www.ijdesign.org/ojs/index.php/IJDesign 1\n",
      "http://www.irishmarxistreview.net/index.php/imr 1\n",
      "http://www.jkaumedsci.sa/kau/index.php/jkaumedsci 1\n",
      "http://www.jurnal.himpsi.or.id/index.php/JPI 1\n",
      "http://www.mattioli1885.com/onlinejournals/index.php/actabiomedica 1\n",
      "http://www.mattioli1885.com/onlinejournals/index.php/anestesiaforum 1\n",
      "http://www.mattioli1885.com/onlinejournals/index.php/chirurgiadellamano 1\n",
      "http://www.mattioli1885.com/onlinejournals/index.php/daysurgery 1\n",
      "http://www.miramon.uab.cat/geofocus_ojs/index.php/geofocus 1\n",
      "http://www.periodicos.unincor.br/index.php/iniciacaocientifica 1\n",
      "http://www.periodicos.unincor.br/index.php/memento 1\n",
      "http://www.periodicos.unincor.br/index.php/recorte 1\n",
      "http://www.periodicos.unincor.br/index.php/revistaunincor 1\n",
      "http://www.periodicos.unincor.br/index.php/teste 1\n",
      "http://www.pge.pa.gov.br/re/index.php/repgepa 1\n",
      "http://www.ptmts.org.pl/jtam/index.php/jtam 1\n",
      "http://www.revistas-conacyt.unam.mx/isonomia/index.php/ISO 1\n",
      "http://www.rpmesp.ins.gob.pe/index.php/rpmesp 1\n",
      "http://www.sema.org.es/ojs/index.php?journal=journal 1\n",
      "http://www.sema.org.es/ojs/index.php?journal=sema 1\n",
      "http://www.summapsicologica.cl/index.php/summa 1\n",
      "http://www.youthstudiesireland.ie/index.php/ysi 1\n",
      "http://www1.ete.inrs.ca/obsjeunes/index.php/rjs 1\n",
      "http://xn--revistadefilologiaespaola-uoc.revistas.csic.es/index.php/rfe 1\n"
     ]
    }
   ],
   "source": [
    "for url, group in archives.head(100).groupby('url'):\n",
    "    archive_id_to_keep = group['archive_id'].max()\n",
    "    print(\"UPDATE archives SET enabled = 0;\")\n",
    "    print(\"UPDATE archives SET enabled = 1 WHERE archive_id = ?;\" % archive_id_to_keep)\n",
    "    print(\"UPDATE records SET archive_id = %s WHERE )"
   ]
  },
  {
   "cell_type": "code",
   "execution_count": 43,
   "metadata": {
    "collapsed": false
   },
   "outputs": [
    {
     "data": {
      "text/plain": [
       "8"
      ]
     },
     "execution_count": 43,
     "metadata": {},
     "output_type": "execute_result"
    }
   ],
   "source": []
  }
 ],
 "metadata": {
  "kernelspec": {
   "display_name": "Python 3",
   "language": "python",
   "name": "python3"
  },
  "language_info": {
   "codemirror_mode": {
    "name": "ipython",
    "version": 3
   },
   "file_extension": ".py",
   "mimetype": "text/x-python",
   "name": "python",
   "nbconvert_exporter": "python",
   "pygments_lexer": "ipython3",
   "version": "3.6.0"
  }
 },
 "nbformat": 4,
 "nbformat_minor": 0
}
